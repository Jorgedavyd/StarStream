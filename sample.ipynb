{
 "cells": [
  {
   "cell_type": "code",
   "execution_count": null,
   "metadata": {},
   "outputs": [],
   "source": [
    "from datetime import datetime\n",
    "from starstream.utils import DataDownloading"
   ]
  },
  {
   "cell_type": "code",
   "execution_count": null,
   "metadata": {},
   "outputs": [],
   "source": [
    "# Defining default values for tests\n",
    "scrap_date_list = [\n",
    "    (datetime(2017, 10, 3), datetime(2017, 10, 15)),\n",
    "    (datetime(2018, 10, 3), datetime(2018, 3, 15))\n",
    "    ]"
   ]
  },
  {
   "cell_type": "markdown",
   "metadata": {},
   "source": [
    "# ACE | Advanced Composite Explorer\n",
    "<img src=\"https://upload.wikimedia.org/wikipedia/commons/9/9b/ACE_mission_logo.png\" height=200 width=200>\n"
   ]
  },
  {
   "cell_type": "code",
   "execution_count": null,
   "metadata": {},
   "outputs": [],
   "source": [
    "from starstream import ACE\n",
    "\n",
    "await DataDownloading(\n",
    "    [ACE.MAG(), ACE.SWEPAM(), ACE.SIS(), ACE.EPAM(), ACE.SWICS()],\n",
    "    scrap_date_list\n",
    ")"
   ]
  },
  {
   "cell_type": "markdown",
   "metadata": {},
   "source": [
    "# DSCOVR | Deep Space Climate Observatory\n",
    "<img src=\"https://www.nesdis.noaa.gov/s3/styles/webp/s3/migrated/DSCOVR-Logo_NOAA_NASA_USAF.png.webp?itok=EGpby_uX\" height=200 width=350>"
   ]
  },
  {
   "cell_type": "code",
   "execution_count": null,
   "metadata": {},
   "outputs": [],
   "source": [
    "from starstream import DSCOVR\n",
    "\n",
    "await DataDownloading(\n",
    "    DSCOVR(),\n",
    "    scrap_date_list\n",
    ") "
   ]
  },
  {
   "cell_type": "markdown",
   "metadata": {},
   "source": [
    "# Disturbance Storm Time Index | World Data Center for Geomagnetism\n",
    "<img src=\"https://wdc.kugi.kyoto-u.ac.jp/figs/logoh.gif\" height=200 width=300>"
   ]
  },
  {
   "cell_type": "code",
   "execution_count": null,
   "metadata": {},
   "outputs": [],
   "source": [
    "from starstream import Dst\n",
    "\n",
    "await DataDownloading(\n",
    "    Dst(),\n",
    "    scrap_date_list\n",
    ")"
   ]
  },
  {
   "cell_type": "markdown",
   "metadata": {},
   "source": [
    "# WIND\n",
    "<img src=\"https://upload.wikimedia.org/wikipedia/commons/d/d0/Windlogo.gif\" height=200 width=200>"
   ]
  },
  {
   "cell_type": "code",
   "execution_count": null,
   "metadata": {},
   "outputs": [],
   "source": [
    "from starstream import WIND\n",
    "\n",
    "await DataDownloading(\n",
    "    [WIND.SMS()],\n",
    "    scrap_date_list\n",
    ") "
   ]
  },
  {
   "cell_type": "markdown",
   "metadata": {},
   "source": [
    "# Hinode\n",
    "<img src=\"https://upload.wikimedia.org/wikipedia/commons/thumb/8/85/Jaxa_logo.svg/1024px-Jaxa_logo.svg.png\" height=200 width=400>"
   ]
  },
  {
   "cell_type": "code",
   "execution_count": null,
   "metadata": {},
   "outputs": [],
   "source": [
    "from starstream import Hinode\n",
    "\n",
    "await DataDownloading(\n",
    "    Hinode.XRT('fits'),\n",
    "    scrap_date_list\n",
    ")"
   ]
  },
  {
   "cell_type": "markdown",
   "metadata": {},
   "source": [
    "# OMNI\n",
    "<img src='https://upload.wikimedia.org/wikipedia/commons/thumb/e/e5/NASA_logo.svg/1224px-NASA_logo.svg.png' height = 200 width = 250>"
   ]
  },
  {
   "cell_type": "code",
   "execution_count": null,
   "metadata": {},
   "outputs": [],
   "source": [
    "from starstream import OMNI\n",
    "\n",
    "await DataDownloading(\n",
    "    OMNI(),\n",
    "    scrap_date_list\n",
    ")"
   ]
  },
  {
   "cell_type": "markdown",
   "metadata": {},
   "source": [
    "# SOHO\n",
    "<img src=\"https://lh3.googleusercontent.com/proxy/CuvQ0w53zAeiZ3s1NT1ijGN6Lz801QNO6toQw2ZzwE-3_FTi7bZkin0Q0mzhisLX0Q1_0ftGyYvR4HIxstI5TIJ9rrp6KfFUz47jWfZD\" height = 200 width = 200>"
   ]
  },
  {
   "cell_type": "code",
   "execution_count": null,
   "metadata": {},
   "outputs": [],
   "source": [
    "from starstream import SOHO\n",
    "\n",
    "await DataDownloading(\n",
    "    SOHO.CELIAS_PM(),\n",
    "    scrap_date_list\n",
    ")"
   ]
  },
  {
   "cell_type": "markdown",
   "metadata": {},
   "source": [
    "# Solar Dynamics Observatory | SDO\n",
    "<img src=\"https://3.bp.blogspot.com/-YdNujMhGAkI/WeIyjnfiN8I/AAAAAAABAII/JDV2MvutF_kNJ9ManBMmTM-0X4G6m3KiACLcBGAs/s1600/logo_sdo.gif\" height = 200 width = 200>"
   ]
  },
  {
   "cell_type": "code",
   "execution_count": null,
   "metadata": {},
   "outputs": [],
   "source": [
    "from starstream import SDO\n",
    "from datetime import timedelta\n",
    "\n",
    "await DataDownloading(\n",
    "    SDO.AIA_HR(timedelta(minutes = 4), '171'),\n",
    "    scrap_date_list\n",
    ")"
   ]
  },
  {
   "cell_type": "markdown",
   "metadata": {},
   "source": [
    "# SWARM\n",
    "<img src=\"https://earth.esa.int/eogateway/documents/20142/0/swarm.png/656b6a23-f035-f7e3-78c6-02a47d1a4b6e?t=1608141199732\" height = 120 width = 400>"
   ]
  },
  {
   "cell_type": "code",
   "execution_count": null,
   "metadata": {},
   "outputs": [],
   "source": [
    "from starstream import SWARM\n",
    "\n",
    "await DataDownloading(\n",
    "    SWARM.MAG(),\n",
    "    scrap_date_list\n",
    ")"
   ]
  },
  {
   "cell_type": "markdown",
   "metadata": {},
   "source": [
    "# PROBA_2\n",
    "<img src=\"http://esdcdoi.esac.esa.int/doi/html/img/Proba2_logo2020.svg\" height = 200 width = 200>"
   ]
  },
  {
   "cell_type": "code",
   "execution_count": null,
   "metadata": {},
   "outputs": [],
   "source": [
    "from starstream import PROBA_2\n",
    "from datetime import timedelta\n",
    "\n",
    "await DataDownloading(\n",
    "    PROBA_2.LYRA(timedelta(minutes = 5)),\n",
    "    scrap_date_list\n",
    ")"
   ]
  }
 ],
 "metadata": {
  "kernelspec": {
   "display_name": "Python 3",
   "language": "python",
   "name": "python3"
  },
  "language_info": {
   "codemirror_mode": {
    "name": "ipython",
    "version": 3
   },
   "file_extension": ".py",
   "mimetype": "text/x-python",
   "name": "python",
   "nbconvert_exporter": "python",
   "pygments_lexer": "ipython3",
   "version": "3.10.12"
  }
 },
 "nbformat": 4,
 "nbformat_minor": 2
}
